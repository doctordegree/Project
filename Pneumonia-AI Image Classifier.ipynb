{
 "cells": [
  {
   "cell_type": "markdown",
   "metadata": {},
   "source": [
    "<h2>A.I. based X-Ray analysis for human lungs. Implemented by Keras and Tensorflow</h2>\n",
    "<p>Prepared by Vytautas Bielinskas, vytautas.bielinskas@gmail.com</p>\n",
    "<h3>Part 1: Construct the CNN Architecture and train the model with real data</h3>"
   ]
  },
  {
   "cell_type": "code",
   "execution_count": 1,
   "metadata": {},
   "outputs": [],
   "source": [
    "# Import modules and packages\n",
    "import numpy as np\n",
    "import pandas as pd\n",
    "import itertools\n",
    "import os, stat, time\n",
    "from os.path import dirname as up\n",
    "\n",
    "import tensorflow as tf\n",
    "import keras\n",
    "from keras import backend as K\n",
    "from keras.models import Sequential\n",
    "from keras.layers import Activation\n",
    "from keras.layers.core import Dense, Flatten, Dropout\n",
    "from keras.optimizers import Adam\n",
    "from keras.optimizers import RMSprop\n",
    "from keras.metrics import categorical_crossentropy\n",
    "from keras.regularizers import l2\n",
    "from keras.preprocessing.image import ImageDataGenerator\n",
    "from keras.layers.convolutional import *\n",
    "from keras.layers.normalization import BatchNormalization\n",
    "from keras.optimizers import SGD\n",
    "from tensorflow.keras import regularizers\n",
    "\n",
    "from matplotlib import pyplot as plt\n",
    "\n",
    "from sklearn.metrics import confusion_matrix\n",
    "\n",
    "from vb100_utils import *\n",
    "from shutil import copyfile\n",
    "import shutil\n",
    "import glob\n",
    "from PIL import Image\n",
    "\n",
    "import warnings\n",
    "warnings.filterwarnings('ignore')\n",
    "%matplotlib inline"
   ]
  },
  {
   "cell_type": "code",
   "execution_count": 2,
   "metadata": {},
   "outputs": [
    {
     "name": "stdout",
     "output_type": "stream",
     "text": [
      "Requirement already satisfied: sklearn in c:\\program files\\python36\\lib\\site-packages (0.0)\n",
      "Requirement already satisfied: scikit-learn in c:\\program files\\python36\\lib\\site-packages (from sklearn) (0.19.2)\n",
      "Collecting matplotlib\n",
      "  Using cached https://files.pythonhosted.org/packages/cc/eb/fd7a5f3c1484e8d2590ff94ca0b89941940a916394f719ab3bb7279e1970/matplotlib-3.1.1-cp36-cp36m-win_amd64.whl\n",
      "Requirement already satisfied, skipping upgrade: numpy>=1.11 in c:\\program files\\python36\\lib\\site-packages (from matplotlib) (1.16.1)\n",
      "Requirement already satisfied, skipping upgrade: cycler>=0.10 in c:\\program files\\python36\\lib\\site-packages (from matplotlib) (0.10.0)\n",
      "Requirement already satisfied, skipping upgrade: pyparsing!=2.0.4,!=2.1.2,!=2.1.6,>=2.0.1 in c:\\program files\\python36\\lib\\site-packages (from matplotlib) (2.2.0)\n",
      "Requirement already satisfied, skipping upgrade: kiwisolver>=1.0.1 in c:\\program files\\python36\\lib\\site-packages (from matplotlib) (1.0.1)\n",
      "Requirement already satisfied, skipping upgrade: python-dateutil>=2.1 in c:\\program files\\python36\\lib\\site-packages (from matplotlib) (2.7.3)\n",
      "Requirement already satisfied, skipping upgrade: six in c:\\program files\\python36\\lib\\site-packages (from cycler>=0.10->matplotlib) (1.11.0)\n",
      "Requirement already satisfied, skipping upgrade: setuptools in c:\\program files\\python36\\lib\\site-packages (from kiwisolver>=1.0.1->matplotlib) (41.0.1)\n",
      "Installing collected packages: matplotlib\n",
      "  Found existing installation: matplotlib 2.2.3\n",
      "    Uninstalling matplotlib-2.2.3:\n"
     ]
    },
    {
     "name": "stderr",
     "output_type": "stream",
     "text": [
      "ERROR: Could not install packages due to an EnvironmentError: [WinError 5] Access is denied: 'c:\\\\program files\\\\python36\\\\lib\\\\site-packages\\\\__pycache__\\\\pylab.cpython-36.pyc'\n",
      "Consider using the `--user` option or check the permissions.\n",
      "\n"
     ]
    },
    {
     "name": "stdout",
     "output_type": "stream",
     "text": [
      "Requirement already satisfied: Pillow in c:\\program files\\python36\\lib\\site-packages (6.0.0)\n"
     ]
    }
   ],
   "source": [
    "!pip install sklearn\n",
    "!pip install -U matplotlib\n",
    "!pip install Pillow"
   ]
  },
  {
   "cell_type": "code",
   "execution_count": 2,
   "metadata": {},
   "outputs": [
    {
     "name": "stdout",
     "output_type": "stream",
     "text": [
      "Tensorflow version = 2.5.0-dev20201117\n",
      "Keras version = 2.4.3\n"
     ]
    }
   ],
   "source": [
    "print('Tensorflow version = {}'.format(tf.__version__))\n",
    "print('Keras version = {}'.format(keras.__version__))"
   ]
  },
  {
   "cell_type": "markdown",
   "metadata": {},
   "source": [
    "<b># Data Pre-processing automatically</b>"
   ]
  },
  {
   "cell_type": "code",
   "execution_count": 11,
   "metadata": {},
   "outputs": [],
   "source": [
    "# Data Folder System: -------------------------------------------------\n",
    "# data\n",
    "# -- test (234 + 390 = 624)\n",
    "# ---- NORMAL\n",
    "# ------ IM-0001-0001.jpeg\n",
    "# ------ IM-0003-0001.jpeg\n",
    "# ------ (234 images)\n",
    "# ---- PNEUMONIA\n",
    "# ------ person1_virus_6.jpeg\n",
    "# ------ person109_bacteria_526.jpeg\n",
    "# ------ (390 images)\n",
    "# -- train (1341 + 3875 = 5216)\n",
    "# ---- NORMAL\n",
    "# ------ IM-0115-0001.jpeg\n",
    "# ------ IM-0117-0001.jpeg\n",
    "# ------ (1341 images)\n",
    "# ---- PNEUMONIA\n",
    "# ------ person1_bacteria_1.jpeg\n",
    "# ------ person162_virus_322.jpeg\n",
    "# ------ (3875 images)\n",
    "# -- val (8 + 8 = 16)\n",
    "# ---- NORMAL\n",
    "# ------ NORMAL2-IM-1427-0001.jpeg\n",
    "# ------ NORMAL2-IM-1440-0001.jpeg\n",
    "# ------ (8 images)\n",
    "# ---- PNEUMONIA\n",
    "# ------ person1946_bacteria_4874.jpeg\n",
    "# ------ person1951_bacteria_4882.jpeg\n",
    "# ------ (8 images)\n",
    "\n",
    "# In total: 234 + 390 + 3875 + 8 + 8 = 4515 imges (1.2GB of data)\n",
    "# -----------------------------------------------------------------------"
   ]
  },
  {
   "cell_type": "markdown",
   "metadata": {},
   "source": [
    "<img src=\"imgs/01.jpeg\" alt=\"Folder system\" width=\"550\">"
   ]
  },
  {
   "cell_type": "code",
   "execution_count": 3,
   "metadata": {},
   "outputs": [
    {
     "name": "stdout",
     "output_type": "stream",
     "text": [
      "Image dimmensions for CNN = (333, 250, 1)\n"
     ]
    }
   ],
   "source": [
    "# CONSTANTS FOR DIRECTORIES\n",
    "TRAIN_DIR = 'data/train'\n",
    "VALID_DIR = 'data/val'\n",
    "TEST_DIR = 'data/test'\n",
    "l_DIRS = [TRAIN_DIR, VALID_DIR, TEST_DIR]\n",
    "POSITIVE_CLASS = 'NORMAL'\n",
    "ABSTRACT_CLASS = 'PNEUMONIA'\n",
    "\n",
    "# CONSTANTS FOR IMAGE PARAMETERS\n",
    "INPUT_W = 1200 # pixels\n",
    "INPUT_H = 900  # pixels\n",
    "DIVIDER = 3.6\n",
    "INPUT_DIM = (int(INPUT_W/DIVIDER), int(INPUT_H/DIVIDER), 1)\n",
    "BATCH_SIZE_TRAIN = 64\n",
    "BATCH_SIZE_TEST = 64 \n",
    "BATCH_SIZE_VALID = 16\n",
    "NORMALIZER = 1./255\n",
    "IMAGE_FORMAT = 'jpeg'\n",
    "\n",
    "# Output Info\n",
    "print('Image dimmensions for CNN = {}'.format(INPUT_DIM))"
   ]
  },
  {
   "cell_type": "code",
   "execution_count": 4,
   "metadata": {},
   "outputs": [
    {
     "name": "stdout",
     "output_type": "stream",
     "text": [
      "Performing raw data restructuring. Please wait.\n",
      "\n",
      "Current Working Directory: C:\\Users\\User\\Downloads\\Pneumonia-X-Rays-of-Human-Lungs-AI-project-master\\Pneumonia-X-Rays-of-Human-Lungs-AI-project-master\n",
      "\n",
      "*** Handling workspace: data/train ***\n",
      "| Folders found:\n",
      "|| ['C:\\\\Users\\\\User\\\\Downloads\\\\Pneumonia-X-Rays-of-Human-Lungs-AI-project-master\\\\Pneumonia-X-Rays-of-Human-Lungs-AI-project-master/data/train\\\\BACTERIA', 'C:\\\\Users\\\\User\\\\Downloads\\\\Pneumonia-X-Rays-of-Human-Lungs-AI-project-master\\\\Pneumonia-X-Rays-of-Human-Lungs-AI-project-master/data/train\\\\NORMAL', 'C:\\\\Users\\\\User\\\\Downloads\\\\Pneumonia-X-Rays-of-Human-Lungs-AI-project-master\\\\Pneumonia-X-Rays-of-Human-Lungs-AI-project-master/data/train\\\\PNEUMONIA', 'C:\\\\Users\\\\User\\\\Downloads\\\\Pneumonia-X-Rays-of-Human-Lungs-AI-project-master\\\\Pneumonia-X-Rays-of-Human-Lungs-AI-project-master/data/train\\\\VIRUS']\n",
      "\n",
      "| Entering to: C:\\Users\\User\\Downloads\\Pneumonia-X-Rays-of-Human-Lungs-AI-project-master\\Pneumonia-X-Rays-of-Human-Lungs-AI-project-master/data/train\\BACTERIA\n",
      "||| Unique Classes Found: []\n",
      "||| Files found in total: 0\n",
      "\n",
      "| Entering to: C:\\Users\\User\\Downloads\\Pneumonia-X-Rays-of-Human-Lungs-AI-project-master\\Pneumonia-X-Rays-of-Human-Lungs-AI-project-master/data/train\\NORMAL\n",
      "||| Unique Classes Found: ['NORMAL']\n",
      "||| Files found in total: 1341\n",
      "--> NORMAL = 1341\n",
      "|||--> Filelist for NORMAL is created.\n",
      "\n",
      "| Entering to: C:\\Users\\User\\Downloads\\Pneumonia-X-Rays-of-Human-Lungs-AI-project-master\\Pneumonia-X-Rays-of-Human-Lungs-AI-project-master/data/train\\PNEUMONIA\n",
      "||| Unique Classes Found: ['BACTERIA', 'VIRUS']\n",
      "||| Files found in total: 3875\n",
      "--> BACTERIA = 2530\n",
      "|||--> Filelist for BACTERIA is created.\n",
      "!!!! Creation of the directory C:\\Users\\User\\Downloads\\Pneumonia-X-Rays-of-Human-Lungs-AI-project-master\\Pneumonia-X-Rays-of-Human-Lungs-AI-project-master/data/train/BACTERIA failed.\n",
      "--> VIRUS = 1345\n",
      "|||--> Filelist for VIRUS is created.\n",
      "!!!! Creation of the directory C:\\Users\\User\\Downloads\\Pneumonia-X-Rays-of-Human-Lungs-AI-project-master\\Pneumonia-X-Rays-of-Human-Lungs-AI-project-master/data/train/VIRUS failed.\n",
      "\n",
      "| Entering to: C:\\Users\\User\\Downloads\\Pneumonia-X-Rays-of-Human-Lungs-AI-project-master\\Pneumonia-X-Rays-of-Human-Lungs-AI-project-master/data/train\\VIRUS\n",
      "||| Unique Classes Found: ['VIRUS']\n",
      "||| Files found in total: 1345\n",
      "--> VIRUS = 1345\n",
      "|||--> Filelist for VIRUS is created.\n",
      "Directory for single class has been changed from    C:\\Users\\User\\Downloads\\Pneumonia-X-Rays-of-Human-Lungs-AI-project-master\\Pneumonia-X-Rays-of-Human-Lungs-AI-project-master/data/train\\VIRUS to C:\\Users\\User\\Downloads\\Pneumonia-X-Rays-of-Human-Lungs-AI-project-master\\Pneumonia-X-Rays-of-Human-Lungs-AI-project-master/data/train/VIRUS\n",
      "\n",
      "*** Handling workspace: data/val ***\n",
      "| Folders found:\n",
      "|| ['C:\\\\Users\\\\User\\\\Downloads\\\\Pneumonia-X-Rays-of-Human-Lungs-AI-project-master\\\\Pneumonia-X-Rays-of-Human-Lungs-AI-project-master/data/val\\\\NORMAL', 'C:\\\\Users\\\\User\\\\Downloads\\\\Pneumonia-X-Rays-of-Human-Lungs-AI-project-master\\\\Pneumonia-X-Rays-of-Human-Lungs-AI-project-master/data/val\\\\PNEUMONIA']\n",
      "\n",
      "| Entering to: C:\\Users\\User\\Downloads\\Pneumonia-X-Rays-of-Human-Lungs-AI-project-master\\Pneumonia-X-Rays-of-Human-Lungs-AI-project-master/data/val\\NORMAL\n",
      "||| Unique Classes Found: ['NORMAL']\n",
      "||| Files found in total: 8\n",
      "--> NORMAL = 8\n",
      "|||--> Filelist for NORMAL is created.\n",
      "\n",
      "| Entering to: C:\\Users\\User\\Downloads\\Pneumonia-X-Rays-of-Human-Lungs-AI-project-master\\Pneumonia-X-Rays-of-Human-Lungs-AI-project-master/data/val\\PNEUMONIA\n",
      "||| Unique Classes Found: ['BACTERIA']\n",
      "||| Files found in total: 8\n",
      "--> BACTERIA = 8\n",
      "|||--> Filelist for BACTERIA is created.\n",
      "Directory for single class has been changed from    C:\\Users\\User\\Downloads\\Pneumonia-X-Rays-of-Human-Lungs-AI-project-master\\Pneumonia-X-Rays-of-Human-Lungs-AI-project-master/data/val\\PNEUMONIA to C:\\Users\\User\\Downloads\\Pneumonia-X-Rays-of-Human-Lungs-AI-project-master\\Pneumonia-X-Rays-of-Human-Lungs-AI-project-master/data/val/BACTERIA\n",
      "\n",
      "*** Handling workspace: data/test ***\n",
      "| Folders found:\n",
      "|| ['C:\\\\Users\\\\User\\\\Downloads\\\\Pneumonia-X-Rays-of-Human-Lungs-AI-project-master\\\\Pneumonia-X-Rays-of-Human-Lungs-AI-project-master/data/test\\\\BACTERIA', 'C:\\\\Users\\\\User\\\\Downloads\\\\Pneumonia-X-Rays-of-Human-Lungs-AI-project-master\\\\Pneumonia-X-Rays-of-Human-Lungs-AI-project-master/data/test\\\\NORMAL', 'C:\\\\Users\\\\User\\\\Downloads\\\\Pneumonia-X-Rays-of-Human-Lungs-AI-project-master\\\\Pneumonia-X-Rays-of-Human-Lungs-AI-project-master/data/test\\\\PNEUMONIA', 'C:\\\\Users\\\\User\\\\Downloads\\\\Pneumonia-X-Rays-of-Human-Lungs-AI-project-master\\\\Pneumonia-X-Rays-of-Human-Lungs-AI-project-master/data/test\\\\VIRUS']\n",
      "\n",
      "| Entering to: C:\\Users\\User\\Downloads\\Pneumonia-X-Rays-of-Human-Lungs-AI-project-master\\Pneumonia-X-Rays-of-Human-Lungs-AI-project-master/data/test\\BACTERIA\n",
      "||| Unique Classes Found: []\n",
      "||| Files found in total: 0\n",
      "\n",
      "| Entering to: C:\\Users\\User\\Downloads\\Pneumonia-X-Rays-of-Human-Lungs-AI-project-master\\Pneumonia-X-Rays-of-Human-Lungs-AI-project-master/data/test\\NORMAL\n",
      "||| Unique Classes Found: ['NORMAL']\n",
      "||| Files found in total: 234\n",
      "--> NORMAL = 234\n",
      "|||--> Filelist for NORMAL is created.\n",
      "\n",
      "| Entering to: C:\\Users\\User\\Downloads\\Pneumonia-X-Rays-of-Human-Lungs-AI-project-master\\Pneumonia-X-Rays-of-Human-Lungs-AI-project-master/data/test\\PNEUMONIA\n",
      "||| Unique Classes Found: ['BACTERIA', 'VIRUS']\n",
      "||| Files found in total: 390\n",
      "--> BACTERIA = 242\n",
      "|||--> Filelist for BACTERIA is created.\n",
      "!!!! Creation of the directory C:\\Users\\User\\Downloads\\Pneumonia-X-Rays-of-Human-Lungs-AI-project-master\\Pneumonia-X-Rays-of-Human-Lungs-AI-project-master/data/test/BACTERIA failed.\n",
      "--> VIRUS = 148\n",
      "|||--> Filelist for VIRUS is created.\n",
      "!!!! Creation of the directory C:\\Users\\User\\Downloads\\Pneumonia-X-Rays-of-Human-Lungs-AI-project-master\\Pneumonia-X-Rays-of-Human-Lungs-AI-project-master/data/test/VIRUS failed.\n",
      "\n",
      "| Entering to: C:\\Users\\User\\Downloads\\Pneumonia-X-Rays-of-Human-Lungs-AI-project-master\\Pneumonia-X-Rays-of-Human-Lungs-AI-project-master/data/test\\VIRUS\n",
      "||| Unique Classes Found: ['VIRUS']\n",
      "||| Files found in total: 148\n",
      "--> VIRUS = 148\n",
      "|||--> Filelist for VIRUS is created.\n",
      "Directory for single class has been changed from    C:\\Users\\User\\Downloads\\Pneumonia-X-Rays-of-Human-Lungs-AI-project-master\\Pneumonia-X-Rays-of-Human-Lungs-AI-project-master/data/test\\VIRUS to C:\\Users\\User\\Downloads\\Pneumonia-X-Rays-of-Human-Lungs-AI-project-master\\Pneumonia-X-Rays-of-Human-Lungs-AI-project-master/data/test/VIRUS\n",
      "\n",
      "--> Deleting Folder: C:\\Users\\User\\Downloads\\Pneumonia-X-Rays-of-Human-Lungs-AI-project-master\\Pneumonia-X-Rays-of-Human-Lungs-AI-project-master/data/test\\PNEUMONIA\n",
      "given folder address: C:\\Users\\User\\Downloads\\Pneumonia-X-Rays-of-Human-Lungs-AI-project-master\\Pneumonia-X-Rays-of-Human-Lungs-AI-project-master/data/test\\PNEUMONIA\n",
      "folder deleted.\n",
      "\n",
      "--> Deleting Folder: C:\\Users\\User\\Downloads\\Pneumonia-X-Rays-of-Human-Lungs-AI-project-master\\Pneumonia-X-Rays-of-Human-Lungs-AI-project-master/data/train\\PNEUMONIA\n",
      "given folder address: C:\\Users\\User\\Downloads\\Pneumonia-X-Rays-of-Human-Lungs-AI-project-master\\Pneumonia-X-Rays-of-Human-Lungs-AI-project-master/data/train\\PNEUMONIA\n",
      "folder deleted.\n",
      "*** All Used Folders have been removed from the system. ***\n",
      "\n",
      ": Average Image Width = 1315\n",
      ": Average Image Height = 948\n",
      "Catched classes for the model:\n",
      "{'TRAIN': ['BACTERIA', 'NORMAL', 'VIRUS'], 'VALIDATION': ['BACTERIA', 'NORMAL'], 'TEST': ['BACTERIA', 'NORMAL', 'VIRUS']}\n"
     ]
    }
   ],
   "source": [
    "if abstract_class_exists(ABSTRACT_CLASS, l_DIRS):\n",
    "    structure_origin_data(l_DIRS, IMAGE_FORMAT, POSITIVE_CLASS)\n",
    "\n",
    "classes = classes_for_each_set(l_DIRS)\n",
    "\n",
    "print('Catched classes for the model:\\n{}'.format(classes))"
   ]
  },
  {
   "cell_type": "code",
   "execution_count": 5,
   "metadata": {},
   "outputs": [
    {
     "name": "stdout",
     "output_type": "stream",
     "text": [
      "Found 5216 images belonging to 3 classes.\n",
      "Found 624 images belonging to 3 classes.\n",
      "Found 16 images belonging to 2 classes.\n"
     ]
    },
    {
     "data": {
      "image/png": "[encoded data removed]",
      "text/plain": [
       "<Figure size 1008x540 with 64 Axes>"
      ]
     },
     "metadata": {
      "needs_background": "light"
     },
     "output_type": "display_data"
    },
    {
     "data": {
      "image/png": "[encoded data removed]",
      "text/plain": [
       "<Figure size 1008x540 with 64 Axes>"
      ]
     },
     "metadata": {
      "needs_background": "light"
     },
     "output_type": "display_data"
    },
    {
     "data": {
      "image/png": "[encoded data removed]",
      "text/plain": [
       "<Figure size 1008x540 with 16 Axes>"
      ]
     },
     "metadata": {
      "needs_background": "light"
     },
     "output_type": "display_data"
    }
   ],
   "source": [
    "# Generating and Plot Image Data from Train Set\n",
    "TRAIN_BATCHES = ImageDataGenerator(rescale=NORMALIZER).\\\n",
    "    flow_from_directory(TRAIN_DIR,\n",
    "    color_mode='grayscale',\n",
    "    target_size=INPUT_DIM[0:2],\n",
    "    classes=classes['TRAIN'],\n",
    "    class_mode=\"categorical\",\n",
    "    shuffle=True,\n",
    "    batch_size=BATCH_SIZE_TRAIN)\n",
    "\n",
    "imgs, labels = next(TRAIN_BATCHES)  # <-- Extracting image matrixes and labels\n",
    "plots(imgs, titles=labels)          # <-- Plot Images with labels\n",
    "#train_imgs = rgb_to_grayscale(imgs) # <-- Convert RGB images to Grayscale ones by Tensorflow\n",
    "#train_labels = labels\n",
    "\n",
    "# Generating and Plot Image Data from Test Set\n",
    "TEST_BATCHES = ImageDataGenerator(rescale=NORMALIZER).\\\n",
    "    flow_from_directory(TEST_DIR,\n",
    "    color_mode='grayscale',\n",
    "    target_size=INPUT_DIM[0:2],\n",
    "    classes=classes['TEST'],\n",
    "    class_mode=\"categorical\",\n",
    "    shuffle=True,\n",
    "    batch_size=BATCH_SIZE_TEST)\n",
    "\n",
    "imgs, labels = next(TEST_BATCHES)   # <-- Extracting image matrixes and labels\n",
    "plots(imgs, titles=labels)          # <-- Plot Images with labels\n",
    "#test_imgs = rgb_to_grayscale(imgs)  # <-- Convert RGB images to Grayscale ones by Tensorflow\n",
    "#test_labels = labels\n",
    "\n",
    "# Generating and Plot Image Data from Validation Set\n",
    "VAL_BATCHES = ImageDataGenerator(rescale=NORMALIZER).\\\n",
    "    flow_from_directory(VALID_DIR,\n",
    "    color_mode='grayscale',\n",
    "    target_size=INPUT_DIM[0:2],\n",
    "    classes=classes['VALIDATION'],\n",
    "    class_mode=\"categorical\",\n",
    "    shuffle=True,\n",
    "    batch_size=BATCH_SIZE_VALID)\n",
    "\n",
    "imgs, labels = next(VAL_BATCHES)   # <-- Extracting image matrixes and labels\n",
    "plots(imgs, titles=labels)         # <-- Plot Images with labels\n",
    "#val_imgs = rgb_to_grayscale(imgs)  # < -- Convert RGB images to Grayscale ones by Tensorflow\n",
    "#val_labels = labels"
   ]
  },
  {
   "cell_type": "code",
   "execution_count": 6,
   "metadata": {},
   "outputs": [
    {
     "name": "stdout",
     "output_type": "stream",
     "text": [
      "data batch shape = (64, 333, 250, 1)\n",
      "labels batch shape = (64, 3)\n"
     ]
    }
   ],
   "source": [
    "# Output of Generators\n",
    "for data_batch, label_batch in TRAIN_BATCHES:\n",
    "    print('data batch shape = {}'.format(data_batch.shape))\n",
    "    print('labels batch shape = {}'.format(label_batch.shape))\n",
    "    break"
   ]
  },
  {
   "cell_type": "markdown",
   "metadata": {},
   "source": [
    "<b># Build CNN with Keras</b>"
   ]
  },
  {
   "cell_type": "code",
   "execution_count": 7,
   "metadata": {},
   "outputs": [],
   "source": [
    "# Build the CNN model\n",
    "model = Sequential()\n",
    "model.add(Conv2D(64, (5, 5), input_shape=(INPUT_DIM)))\n",
    "model.add(Activation('relu'))\n",
    "model.add(MaxPooling2D((3, 3)))\n",
    "\n",
    "model.add(Conv2D(128, (4, 4))) \n",
    "model.add(Activation('relu'))\n",
    "model.add(MaxPooling2D(pool_size=(2, 2)))\n",
    "\n",
    "model.add(Conv2D(512, (3, 3))) \n",
    "model.add(Activation('relu'))\n",
    "model.add(MaxPooling2D(pool_size=(2, 2)))\n",
    "\n",
    "model.add(Conv2D(512, (3, 3))) \n",
    "model.add(Activation('relu'))\n",
    "model.add(MaxPooling2D(pool_size=(2, 2)))\n",
    "\n",
    "model.add(Conv2D(512, (3, 3))) \n",
    "model.add(Activation('relu'))\n",
    "model.add(MaxPooling2D(pool_size=(2, 2)))\n",
    "\n",
    "model.add(Conv2D(512, (2, 2))) \n",
    "model.add(Activation('relu'))\n",
    "model.add(MaxPooling2D(pool_size=(2, 2)))\n",
    "\n",
    "model.add(Flatten()) \n",
    "\n",
    "model.add(Dense(512, kernel_regularizer=regularizers.l2(0.02))) \n",
    "model.add(Activation('relu'))\n",
    "\n",
    "model.add(Dense(3)) \n",
    "model.add(Activation('softmax')) "
   ]
  },
  {
   "cell_type": "code",
   "execution_count": 8,
   "metadata": {},
   "outputs": [
    {
     "name": "stdout",
     "output_type": "stream",
     "text": [
      "Model: \"sequential\"\n",
      "_________________________________________________________________\n",
      "Layer (type)                 Output Shape              Param #   \n",
      "=================================================================\n",
      "conv2d (Conv2D)              (None, 329, 246, 64)      1664      \n",
      "_________________________________________________________________\n",
      "activation (Activation)      (None, 329, 246, 64)      0         \n",
      "_________________________________________________________________\n",
      "max_pooling2d (MaxPooling2D) (None, 109, 82, 64)       0         \n",
      "_________________________________________________________________\n",
      "conv2d_1 (Conv2D)            (None, 106, 79, 128)      131200    \n",
      "_________________________________________________________________\n",
      "activation_1 (Activation)    (None, 106, 79, 128)      0         \n",
      "_________________________________________________________________\n",
      "max_pooling2d_1 (MaxPooling2 (None, 53, 39, 128)       0         \n",
      "_________________________________________________________________\n",
      "conv2d_2 (Conv2D)            (None, 51, 37, 512)       590336    \n",
      "_________________________________________________________________\n",
      "activation_2 (Activation)    (None, 51, 37, 512)       0         \n",
      "_________________________________________________________________\n",
      "max_pooling2d_2 (MaxPooling2 (None, 25, 18, 512)       0         \n",
      "_________________________________________________________________\n",
      "conv2d_3 (Conv2D)            (None, 23, 16, 512)       2359808   \n",
      "_________________________________________________________________\n",
      "activation_3 (Activation)    (None, 23, 16, 512)       0         \n",
      "_________________________________________________________________\n",
      "max_pooling2d_3 (MaxPooling2 (None, 11, 8, 512)        0         \n",
      "_________________________________________________________________\n",
      "conv2d_4 (Conv2D)            (None, 9, 6, 512)         2359808   \n",
      "_________________________________________________________________\n",
      "activation_4 (Activation)    (None, 9, 6, 512)         0         \n",
      "_________________________________________________________________\n",
      "max_pooling2d_4 (MaxPooling2 (None, 4, 3, 512)         0         \n",
      "_________________________________________________________________\n",
      "conv2d_5 (Conv2D)            (None, 3, 2, 512)         1049088   \n",
      "_________________________________________________________________\n",
      "activation_5 (Activation)    (None, 3, 2, 512)         0         \n",
      "_________________________________________________________________\n",
      "max_pooling2d_5 (MaxPooling2 (None, 1, 1, 512)         0         \n",
      "_________________________________________________________________\n",
      "flatten (Flatten)            (None, 512)               0         \n",
      "_________________________________________________________________\n",
      "dense (Dense)                (None, 512)               262656    \n",
      "_________________________________________________________________\n",
      "activation_6 (Activation)    (None, 512)               0         \n",
      "_________________________________________________________________\n",
      "dense_1 (Dense)              (None, 3)                 1539      \n",
      "_________________________________________________________________\n",
      "activation_7 (Activation)    (None, 3)                 0         \n",
      "=================================================================\n",
      "Total params: 6,756,099\n",
      "Trainable params: 6,756,099\n",
      "Non-trainable params: 0\n",
      "_________________________________________________________________\n"
     ]
    }
   ],
   "source": [
    "model.summary()"
   ]
  },
  {
   "cell_type": "code",
   "execution_count": 9,
   "metadata": {},
   "outputs": [],
   "source": [
    "# Define an optimizer for the model\n",
    "opt = Adam(lr=0.00001, beta_1=0.9, beta_2=0.999, epsilon=None, decay=0.0, amsgrad=False)\n",
    "#opt = SGD(lr=0.01, decay=1e-6, momentum=0.85, nesterov=True)\n",
    "#opt = RMSprop(lr=0.001, rho=0.8, epsilon=None, decay=0.0)\n",
    "\n",
    "model.compile(loss='categorical_crossentropy', metrics=['accuracy'], optimizer=opt)"
   ]
  },
  {
   "cell_type": "code",
   "execution_count": 10,
   "metadata": {},
   "outputs": [
    {
     "name": "stdout",
     "output_type": "stream",
     "text": [
      "steps_per_epoch=81\n",
      "validation_steps=9\n"
     ]
    }
   ],
   "source": [
    "print('steps_per_epoch={}'.format(int(5215 / BATCH_SIZE_TRAIN)))\n",
    "print('validation_steps={}'.format(int(624 / BATCH_SIZE_TEST)))"
   ]
  },
  {
   "cell_type": "markdown",
   "metadata": {},
   "source": [
    "<b># Train the CNN with Training data</b>"
   ]
  },
  {
   "cell_type": "code",
   "execution_count": null,
   "metadata": {},
   "outputs": [
    {
     "name": "stdout",
     "output_type": "stream",
     "text": [
      "Epoch 1/100\n"
     ]
    }
   ],
   "source": [
    "%%time\n",
    "model.fit_generator(\n",
    "    TRAIN_BATCHES,\n",
    "    steps_per_epoch=len(TRAIN_BATCHES),\n",
    "    validation_data=TEST_BATCHES,\n",
    "    validation_steps=len(TEST_BATCHES),\n",
    "    epochs=100,\n",
    "    verbose=2\n",
    ")\n",
    "\n",
    "# Parameters meanings:\n",
    "# steps_per_epoch = number_of_images / batch_size = 5215 / 64 = 82:\n",
    "# --- Total number of steps (batches of samples) to yield from generator before declaring one \n",
    "#     epoch finished and starting the next epoch. It should typically be equal to the number \n",
    "#     of unique samples of your dataset divided by the batch size.\n",
    "# Verbose:\n",
    "# -- 0 (quiet): you just get the total numbers of tests executed and the global result\n",
    "# -- 1 (default): you get the same plus a dot for every successful test or a F for every failure\n",
    "# -- 2 (verbose): you get the help string of every test and the result"
   ]
  },
  {
   "cell_type": "code",
   "execution_count": 20,
   "metadata": {},
   "outputs": [
    {
     "ename": "KeyError",
     "evalue": "'val_acc'",
     "output_type": "error",
     "traceback": [
      "\u001b[1;31m---------------------------------------------------------------------------\u001b[0m",
      "\u001b[1;31mKeyError\u001b[0m                                  Traceback (most recent call last)",
      "\u001b[1;32m<ipython-input-20-dbb8bbf3b56f>\u001b[0m in \u001b[0;36m<module>\u001b[1;34m\u001b[0m\n\u001b[1;32m----> 1\u001b[1;33m \u001b[0mplot_model_result\u001b[0m\u001b[1;33m(\u001b[0m\u001b[0mmodel\u001b[0m\u001b[1;33m)\u001b[0m\u001b[1;33m\u001b[0m\u001b[1;33m\u001b[0m\u001b[0m\n\u001b[0m",
      "\u001b[1;32m~\\Downloads\\Pneumonia-X-Rays-of-Human-Lungs-AI-project-master\\Pneumonia-X-Rays-of-Human-Lungs-AI-project-master\\vb100_utils.py\u001b[0m in \u001b[0;36mplot_model_result\u001b[1;34m(model)\u001b[0m\n\u001b[0;32m    276\u001b[0m         \u001b[1;31m# Plot #1\u001b[0m\u001b[1;33m\u001b[0m\u001b[1;33m\u001b[0m\u001b[1;33m\u001b[0m\u001b[0m\n\u001b[0;32m    277\u001b[0m \u001b[1;33m\u001b[0m\u001b[0m\n\u001b[1;32m--> 278\u001b[1;33m         \u001b[0my1\u001b[0m \u001b[1;33m=\u001b[0m \u001b[0mmodel\u001b[0m\u001b[1;33m.\u001b[0m\u001b[0mhistory\u001b[0m\u001b[1;33m.\u001b[0m\u001b[0mhistory\u001b[0m\u001b[1;33m[\u001b[0m\u001b[1;34m'val_acc'\u001b[0m\u001b[1;33m]\u001b[0m\u001b[1;33m\u001b[0m\u001b[1;33m\u001b[0m\u001b[0m\n\u001b[0m\u001b[0;32m    279\u001b[0m         \u001b[0my2\u001b[0m \u001b[1;33m=\u001b[0m \u001b[0mmodel\u001b[0m\u001b[1;33m.\u001b[0m\u001b[0mhistory\u001b[0m\u001b[1;33m.\u001b[0m\u001b[0mhistory\u001b[0m\u001b[1;33m[\u001b[0m\u001b[1;34m'acc'\u001b[0m\u001b[1;33m]\u001b[0m\u001b[1;33m\u001b[0m\u001b[1;33m\u001b[0m\u001b[0m\n\u001b[0;32m    280\u001b[0m \u001b[1;33m\u001b[0m\u001b[0m\n",
      "\u001b[1;31mKeyError\u001b[0m: 'val_acc'"
     ]
    }
   ],
   "source": [
    "plot_model_result(model)"
   ]
  },
  {
   "cell_type": "markdown",
   "metadata": {},
   "source": [
    "<p><i>More saved models are stored on the project directory as <code>good_models</code>. There are subsystem contain graphs, weights and CNN architectures for each training experiment.</i></p>"
   ]
  },
  {
   "cell_type": "code",
   "execution_count": 21,
   "metadata": {},
   "outputs": [
    {
     "ename": "KeyError",
     "evalue": "'val_acc'",
     "output_type": "error",
     "traceback": [
      "\u001b[1;31m---------------------------------------------------------------------------\u001b[0m",
      "\u001b[1;31mKeyError\u001b[0m                                  Traceback (most recent call last)",
      "\u001b[1;32m<ipython-input-21-030a9759a77b>\u001b[0m in \u001b[0;36m<module>\u001b[1;34m\u001b[0m\n\u001b[0;32m      1\u001b[0m \u001b[1;31m# Save the results as separate lists\u001b[0m\u001b[1;33m\u001b[0m\u001b[1;33m\u001b[0m\u001b[1;33m\u001b[0m\u001b[0m\n\u001b[1;32m----> 2\u001b[1;33m \u001b[0mdf\u001b[0m \u001b[1;33m=\u001b[0m \u001b[0msave_model_result\u001b[0m\u001b[1;33m(\u001b[0m\u001b[0mmodel\u001b[0m\u001b[1;33m)\u001b[0m\u001b[1;33m\u001b[0m\u001b[1;33m\u001b[0m\u001b[0m\n\u001b[0m",
      "\u001b[1;32m~\\Downloads\\Pneumonia-X-Rays-of-Human-Lungs-AI-project-master\\Pneumonia-X-Rays-of-Human-Lungs-AI-project-master\\vb100_utils.py\u001b[0m in \u001b[0;36msave_model_result\u001b[1;34m(model)\u001b[0m\n\u001b[0;32m    355\u001b[0m \u001b[1;33m\u001b[0m\u001b[0m\n\u001b[0;32m    356\u001b[0m         \u001b[1;31m# Extract model result data to separate data vectors\u001b[0m\u001b[1;33m\u001b[0m\u001b[1;33m\u001b[0m\u001b[1;33m\u001b[0m\u001b[0m\n\u001b[1;32m--> 357\u001b[1;33m         \u001b[0mdata_val_acc\u001b[0m \u001b[1;33m=\u001b[0m \u001b[0mlist\u001b[0m\u001b[1;33m(\u001b[0m\u001b[0mmodel\u001b[0m\u001b[1;33m.\u001b[0m\u001b[0mhistory\u001b[0m\u001b[1;33m.\u001b[0m\u001b[0mhistory\u001b[0m\u001b[1;33m[\u001b[0m\u001b[1;34m'val_acc'\u001b[0m\u001b[1;33m]\u001b[0m\u001b[1;33m)\u001b[0m\u001b[1;33m\u001b[0m\u001b[1;33m\u001b[0m\u001b[0m\n\u001b[0m\u001b[0;32m    358\u001b[0m         \u001b[0mdata_acc\u001b[0m \u001b[1;33m=\u001b[0m \u001b[0mlist\u001b[0m\u001b[1;33m(\u001b[0m\u001b[0mmodel\u001b[0m\u001b[1;33m.\u001b[0m\u001b[0mhistory\u001b[0m\u001b[1;33m.\u001b[0m\u001b[0mhistory\u001b[0m\u001b[1;33m[\u001b[0m\u001b[1;34m'acc'\u001b[0m\u001b[1;33m]\u001b[0m\u001b[1;33m)\u001b[0m\u001b[1;33m\u001b[0m\u001b[1;33m\u001b[0m\u001b[0m\n\u001b[0;32m    359\u001b[0m         \u001b[0mdata_val_loss\u001b[0m \u001b[1;33m=\u001b[0m \u001b[0mlist\u001b[0m\u001b[1;33m(\u001b[0m\u001b[0mmodel\u001b[0m\u001b[1;33m.\u001b[0m\u001b[0mhistory\u001b[0m\u001b[1;33m.\u001b[0m\u001b[0mhistory\u001b[0m\u001b[1;33m[\u001b[0m\u001b[1;34m'val_loss'\u001b[0m\u001b[1;33m]\u001b[0m\u001b[1;33m)\u001b[0m\u001b[1;33m\u001b[0m\u001b[1;33m\u001b[0m\u001b[0m\n",
      "\u001b[1;31mKeyError\u001b[0m: 'val_acc'"
     ]
    }
   ],
   "source": [
    "# Save the results as separate lists\n",
    "df = save_model_result(model)"
   ]
  },
  {
   "cell_type": "markdown",
   "metadata": {},
   "source": [
    "<h3>Part 2. Make it resuable</h3>"
   ]
  },
  {
   "cell_type": "code",
   "execution_count": 22,
   "metadata": {},
   "outputs": [
    {
     "name": "stdout",
     "output_type": "stream",
     "text": [
      "Model saved to the disk.\n"
     ]
    }
   ],
   "source": [
    "# Save the Model Weights\n",
    "model.save_weights('model_100_eopchs_adam_20191030_01.h5')\n",
    "\n",
    "# Save the Model to JSON\n",
    "model_json = model.to_json()\n",
    "with open('model_adam_20191030_01.json', 'w') as json_file:\n",
    "    json_file.write(model_json)\n",
    "    \n",
    "print('Model saved to the disk.')"
   ]
  },
  {
   "cell_type": "code",
   "execution_count": 17,
   "metadata": {},
   "outputs": [],
   "source": [
    "# Useful references:\n",
    "# -- https://www.youtube.com/watch?v=daovGOlMbT4\n",
    "# -- https://www.pyimagesearch.com/2018/05/07/multi-label-classification-with-keras/"
   ]
  },
  {
   "cell_type": "code",
   "execution_count": 23,
   "metadata": {},
   "outputs": [],
   "source": [
    "# ------------------------------------------------------------------------\n",
    "# Load saved model and its weights\n",
    "'''\n",
    ">> Model weights are saved to HDF5 format.\n",
    ">> The model structure can be described and saved using two different formats: JSON and YAML.\n",
    "'''\n",
    "\n",
    "# Import dependencies\n",
    "from keras.optimizers import Adam\n",
    "from tensorflow.keras.models import model_from_json\n",
    "from tensorflow.python.framework import ops\n",
    "ops.reset_default_graph()\n",
    "import h5py \n",
    "from PIL import Image\n",
    "import PIL\n",
    "from vb100_utils import *"
   ]
  },
  {
   "cell_type": "code",
   "execution_count": 24,
   "metadata": {},
   "outputs": [
    {
     "name": "stdout",
     "output_type": "stream",
     "text": [
      "h5py version is 2.10.0\n"
     ]
    }
   ],
   "source": [
    "print('h5py version is {}'.format(h5py.__version__))"
   ]
  },
  {
   "cell_type": "code",
   "execution_count": 25,
   "metadata": {},
   "outputs": [],
   "source": [
    "# Get the architecture of CNN\n",
    "json_file = open('./good_models/20190807/02/model_adam.json')\n",
    "loaded_model_json = json_file.read()\n",
    "json_file.close()\n",
    "loaded_model = model_from_json(loaded_model_json)\n",
    "\n",
    "# Get weights into the model\n",
    "loaded_model.load_weights('./good_models/20190807/02/model_100_eopchs_adam_20190807.h5')"
   ]
  },
  {
   "cell_type": "code",
   "execution_count": 26,
   "metadata": {},
   "outputs": [
    {
     "ename": "FileNotFoundError",
     "evalue": "[Errno 2] No such file or directory: 'data/val/BACTERIA/person1950_bacteria_4881.jpeg'",
     "output_type": "error",
     "traceback": [
      "\u001b[1;31m---------------------------------------------------------------------------\u001b[0m",
      "\u001b[1;31mFileNotFoundError\u001b[0m                         Traceback (most recent call last)",
      "\u001b[1;32m<ipython-input-26-44bbe17defc9>\u001b[0m in \u001b[0;36m<module>\u001b[1;34m\u001b[0m\n\u001b[0;32m     18\u001b[0m '''\n\u001b[0;32m     19\u001b[0m \u001b[1;33m\u001b[0m\u001b[0m\n\u001b[1;32m---> 20\u001b[1;33m \u001b[0mIMG\u001b[0m \u001b[1;33m=\u001b[0m \u001b[0mImage\u001b[0m\u001b[1;33m.\u001b[0m\u001b[0mopen\u001b[0m\u001b[1;33m(\u001b[0m\u001b[1;34m'data/val/BACTERIA/person1950_bacteria_4881.jpeg'\u001b[0m\u001b[1;33m)\u001b[0m\u001b[1;33m\u001b[0m\u001b[1;33m\u001b[0m\u001b[0m\n\u001b[0m\u001b[0;32m     21\u001b[0m \u001b[0mprint\u001b[0m\u001b[1;33m(\u001b[0m\u001b[0mtype\u001b[0m\u001b[1;33m(\u001b[0m\u001b[0mIMG\u001b[0m\u001b[1;33m)\u001b[0m\u001b[1;33m)\u001b[0m\u001b[1;33m\u001b[0m\u001b[1;33m\u001b[0m\u001b[0m\n\u001b[0;32m     22\u001b[0m \u001b[0mIMG\u001b[0m \u001b[1;33m=\u001b[0m \u001b[0mIMG\u001b[0m\u001b[1;33m.\u001b[0m\u001b[0mresize\u001b[0m\u001b[1;33m(\u001b[0m\u001b[1;33m(\u001b[0m\u001b[1;36m342\u001b[0m\u001b[1;33m,\u001b[0m \u001b[1;36m257\u001b[0m\u001b[1;33m)\u001b[0m\u001b[1;33m)\u001b[0m\u001b[1;33m\u001b[0m\u001b[1;33m\u001b[0m\u001b[0m\n",
      "\u001b[1;32mc:\\users\\user\\appdata\\local\\programs\\python\\python38\\lib\\site-packages\\PIL\\Image.py\u001b[0m in \u001b[0;36mopen\u001b[1;34m(fp, mode, formats)\u001b[0m\n\u001b[0;32m   2889\u001b[0m \u001b[1;33m\u001b[0m\u001b[0m\n\u001b[0;32m   2890\u001b[0m     \u001b[1;32mif\u001b[0m \u001b[0mfilename\u001b[0m\u001b[1;33m:\u001b[0m\u001b[1;33m\u001b[0m\u001b[1;33m\u001b[0m\u001b[0m\n\u001b[1;32m-> 2891\u001b[1;33m         \u001b[0mfp\u001b[0m \u001b[1;33m=\u001b[0m \u001b[0mbuiltins\u001b[0m\u001b[1;33m.\u001b[0m\u001b[0mopen\u001b[0m\u001b[1;33m(\u001b[0m\u001b[0mfilename\u001b[0m\u001b[1;33m,\u001b[0m \u001b[1;34m\"rb\"\u001b[0m\u001b[1;33m)\u001b[0m\u001b[1;33m\u001b[0m\u001b[1;33m\u001b[0m\u001b[0m\n\u001b[0m\u001b[0;32m   2892\u001b[0m         \u001b[0mexclusive_fp\u001b[0m \u001b[1;33m=\u001b[0m \u001b[1;32mTrue\u001b[0m\u001b[1;33m\u001b[0m\u001b[1;33m\u001b[0m\u001b[0m\n\u001b[0;32m   2893\u001b[0m \u001b[1;33m\u001b[0m\u001b[0m\n",
      "\u001b[1;31mFileNotFoundError\u001b[0m: [Errno 2] No such file or directory: 'data/val/BACTERIA/person1950_bacteria_4881.jpeg'"
     ]
    }
   ],
   "source": [
    "'''\n",
    "Here I will simulate what will happen during deployment on a cloud.\n",
    "Reading a given image, preparing it for CNN evaluation and make\n",
    "a predictions with a returned class from a dictionary that has\n",
    "been used for training.\n",
    "'''\n",
    "\n",
    "# Define optimizer and run\n",
    "opt = Adam(lr=0.00001, beta_1=0.9, beta_2=0.999, epsilon=None, decay=0.0)\n",
    "loaded_model.compile(loss='categorical_crossentropy', metrics=['accuracy'], optimizer='rmsprop')\n",
    "\n",
    "\n",
    "'''\n",
    "Important Note! For this block optimizer is entered manualy as Tensorflow object.\n",
    "For future, need to change it for include it as variable with full set of\n",
    "parameters as Tensorflow variable.\n",
    "\n",
    "'''\n",
    "\n",
    "IMG = Image.open('data/val/BACTERIA/person1950_bacteria_4881.jpeg')\n",
    "print(type(IMG))\n",
    "IMG = IMG.resize((342, 257))\n",
    "IMG = np.array(IMG)\n",
    "print('po array = {}'.format(IMG.shape))\n",
    "IMG = np.true_divide(IMG, 255)\n",
    "IMG = IMG.reshape(1, 342, 257, 1)\n",
    "print(type(IMG), IMG.shape)\n",
    "\n",
    "predictions = loaded_model.predict(IMG)\n",
    "\n",
    "print(loaded_model)\n",
    "predictions_c = loaded_model.predict_classes(IMG)\n",
    "print(predictions, predictions_c)"
   ]
  },
  {
   "cell_type": "code",
   "execution_count": 9,
   "metadata": {},
   "outputs": [
    {
     "name": "stdout",
     "output_type": "stream",
     "text": [
      "We think that is virus.\n"
     ]
    }
   ],
   "source": [
    "classes = {'TRAIN': ['BACTERIA', 'NORMAL', 'VIRUS'],\n",
    "           'VALIDATION': ['BACTERIA', 'NORMAL'],\n",
    "           'TEST': ['BACTERIA', 'NORMAL', 'VIRUS']}\n",
    "\n",
    "predicted_class = classes['TRAIN'][predictions_c[0]]\n",
    "print('We think that is {}.'.format(predicted_class.lower()))"
   ]
  },
  {
   "cell_type": "code",
   "execution_count": null,
   "metadata": {},
   "outputs": [],
   "source": []
  },
  {
   "cell_type": "markdown",
   "metadata": {},
   "source": [
    "<h2>That is all for Jupyter.</h2>\n",
    "<p>Go to deployment stage now.</p>"
   ]
  }
 ],
 "metadata": {
  "kernelspec": {
   "display_name": "Python 3",
   "language": "python",
   "name": "python3"
  },
  "language_info": {
   "codemirror_mode": {
    "name": "ipython",
    "version": 3
   },
   "file_extension": ".py",
   "mimetype": "text/x-python",
   "name": "python",
   "nbconvert_exporter": "python",
   "pygments_lexer": "ipython3",
   "version": "3.8.6"
  }
 },
 "nbformat": 4,
 "nbformat_minor": 4
}
